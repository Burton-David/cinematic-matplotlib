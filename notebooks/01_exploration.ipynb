{
 "cells": [
  {
   "cell_type": "markdown",
   "metadata": {},
   "source": [
    "# IMDB Movie Reviews - Data Exploration\n",
    "\n",
    "Deep analysis to identify cinematic visualization opportunities."
   ]
  },
  {
   "cell_type": "code",
   "execution_count": 1,
   "metadata": {
    "execution": {
     "iopub.execute_input": "2025-10-03T17:15:09.712143Z",
     "iopub.status.busy": "2025-10-03T17:15:09.711907Z",
     "iopub.status.idle": "2025-10-03T17:15:12.313280Z",
     "shell.execute_reply": "2025-10-03T17:15:12.313047Z"
    }
   },
   "outputs": [
    {
     "name": "stdout",
     "output_type": "stream",
     "text": [
      "Dataset shape: (50000, 2)\n"
     ]
    },
    {
     "data": {
      "text/html": [
       "<div>\n",
       "<style scoped>\n",
       "    .dataframe tbody tr th:only-of-type {\n",
       "        vertical-align: middle;\n",
       "    }\n",
       "\n",
       "    .dataframe tbody tr th {\n",
       "        vertical-align: top;\n",
       "    }\n",
       "\n",
       "    .dataframe thead th {\n",
       "        text-align: right;\n",
       "    }\n",
       "</style>\n",
       "<table border=\"1\" class=\"dataframe\">\n",
       "  <thead>\n",
       "    <tr style=\"text-align: right;\">\n",
       "      <th></th>\n",
       "      <th>review</th>\n",
       "      <th>sentiment</th>\n",
       "    </tr>\n",
       "  </thead>\n",
       "  <tbody>\n",
       "    <tr>\n",
       "      <th>0</th>\n",
       "      <td>One of the other reviewers has mentioned that ...</td>\n",
       "      <td>positive</td>\n",
       "    </tr>\n",
       "    <tr>\n",
       "      <th>1</th>\n",
       "      <td>A wonderful little production. &lt;br /&gt;&lt;br /&gt;The...</td>\n",
       "      <td>positive</td>\n",
       "    </tr>\n",
       "    <tr>\n",
       "      <th>2</th>\n",
       "      <td>I thought this was a wonderful way to spend ti...</td>\n",
       "      <td>positive</td>\n",
       "    </tr>\n",
       "    <tr>\n",
       "      <th>3</th>\n",
       "      <td>Basically there's a family where a little boy ...</td>\n",
       "      <td>negative</td>\n",
       "    </tr>\n",
       "    <tr>\n",
       "      <th>4</th>\n",
       "      <td>Petter Mattei's \"Love in the Time of Money\" is...</td>\n",
       "      <td>positive</td>\n",
       "    </tr>\n",
       "  </tbody>\n",
       "</table>\n",
       "</div>"
      ],
      "text/plain": [
       "                                              review sentiment\n",
       "0  One of the other reviewers has mentioned that ...  positive\n",
       "1  A wonderful little production. <br /><br />The...  positive\n",
       "2  I thought this was a wonderful way to spend ti...  positive\n",
       "3  Basically there's a family where a little boy ...  negative\n",
       "4  Petter Mattei's \"Love in the Time of Money\" is...  positive"
      ]
     },
     "execution_count": 1,
     "metadata": {},
     "output_type": "execute_result"
    }
   ],
   "source": [
    "import pandas as pd\n",
    "import numpy as np\n",
    "import matplotlib.pyplot as plt\n",
    "from collections import Counter\n",
    "import json\n",
    "\n",
    "# Load dataset\n",
    "df = pd.read_csv('../data/IMDB Dataset.csv')\n",
    "print(f'Dataset shape: {df.shape}')\n",
    "df.head()"
   ]
  },
  {
   "cell_type": "markdown",
   "metadata": {},
   "source": [
    "## 1. Basic Statistics"
   ]
  },
  {
   "cell_type": "code",
   "execution_count": 2,
   "metadata": {
    "execution": {
     "iopub.execute_input": "2025-10-03T17:15:12.332132Z",
     "iopub.status.busy": "2025-10-03T17:15:12.332008Z",
     "iopub.status.idle": "2025-10-03T17:15:12.345676Z",
     "shell.execute_reply": "2025-10-03T17:15:12.345464Z"
    }
   },
   "outputs": [
    {
     "name": "stdout",
     "output_type": "stream",
     "text": [
      "\n",
      "Column info:\n",
      "<class 'pandas.core.frame.DataFrame'>\n",
      "RangeIndex: 50000 entries, 0 to 49999\n",
      "Data columns (total 2 columns):\n",
      " #   Column     Non-Null Count  Dtype \n",
      "---  ------     --------------  ----- \n",
      " 0   review     50000 non-null  object\n",
      " 1   sentiment  50000 non-null  object\n",
      "dtypes: object(2)\n",
      "memory usage: 781.4+ KB\n",
      "\n",
      "Sentiment distribution:\n",
      "sentiment\n",
      "positive    25000\n",
      "negative    25000\n",
      "Name: count, dtype: int64\n",
      "\n",
      "Missing values:\n",
      "review       0\n",
      "sentiment    0\n",
      "dtype: int64\n"
     ]
    }
   ],
   "source": [
    "print('\\nColumn info:')\n",
    "df.info()\n",
    "\n",
    "print('\\nSentiment distribution:')\n",
    "print(df['sentiment'].value_counts())\n",
    "\n",
    "print('\\nMissing values:')\n",
    "print(df.isnull().sum())"
   ]
  },
  {
   "cell_type": "markdown",
   "metadata": {},
   "source": [
    "## 2. Review Length Analysis"
   ]
  },
  {
   "cell_type": "code",
   "execution_count": 3,
   "metadata": {
    "execution": {
     "iopub.execute_input": "2025-10-03T17:15:12.347028Z",
     "iopub.status.busy": "2025-10-03T17:15:12.346935Z",
     "iopub.status.idle": "2025-10-03T17:15:12.952847Z",
     "shell.execute_reply": "2025-10-03T17:15:12.952569Z"
    }
   },
   "outputs": [
    {
     "name": "stdout",
     "output_type": "stream",
     "text": [
      "Review length statistics:\n",
      "       review_length    word_count\n",
      "count   50000.000000  50000.000000\n",
      "mean     1309.431020    231.156940\n",
      "std       989.728014    171.343997\n",
      "min        32.000000      4.000000\n",
      "25%       699.000000    126.000000\n",
      "50%       970.000000    173.000000\n",
      "75%      1590.250000    280.000000\n",
      "max     13704.000000   2470.000000\n",
      "\n",
      "Length by sentiment:\n",
      "           review_length  word_count\n",
      "sentiment                           \n",
      "negative      1294.06436   229.46456\n",
      "positive      1324.79768   232.84932\n"
     ]
    }
   ],
   "source": [
    "df['review_length'] = df['review'].str.len()\n",
    "df['word_count'] = df['review'].str.split().str.len()\n",
    "\n",
    "print('Review length statistics:')\n",
    "print(df[['review_length', 'word_count']].describe())\n",
    "\n",
    "print('\\nLength by sentiment:')\n",
    "print(df.groupby('sentiment')[['review_length', 'word_count']].mean())"
   ]
  },
  {
   "cell_type": "markdown",
   "metadata": {},
   "source": [
    "## 3. Word Frequency Analysis (ULTRATHINK)"
   ]
  },
  {
   "cell_type": "code",
   "execution_count": 4,
   "metadata": {
    "execution": {
     "iopub.execute_input": "2025-10-03T17:15:12.954278Z",
     "iopub.status.busy": "2025-10-03T17:15:12.954199Z",
     "iopub.status.idle": "2025-10-03T17:15:14.821689Z",
     "shell.execute_reply": "2025-10-03T17:15:14.821468Z"
    }
   },
   "outputs": [
    {
     "name": "stdout",
     "output_type": "stream",
     "text": [
      "Top 10 positive words:\n",
      "  /><br: 48976\n",
      "  film: 29367\n",
      "  movie: 26681\n",
      "  have: 24169\n",
      "  they: 17669\n",
      "  like: 16331\n",
      "  very: 15791\n",
      "  it's: 15574\n",
      "  about: 15557\n",
      "  some: 13978\n",
      "\n",
      "Top 10 negative words:\n",
      "  /><br: 51998\n",
      "  movie: 34811\n",
      "  have: 30254\n",
      "  film: 25719\n",
      "  they: 23191\n",
      "  like: 20950\n",
      "  just: 20544\n",
      "  about: 16841\n",
      "  some: 16187\n",
      "  it's: 15638\n"
     ]
    }
   ],
   "source": [
    "# Get top words by sentiment\n",
    "def get_top_words(reviews, n=20):\n",
    "    words = ' '.join(reviews).lower().split()\n",
    "    # Remove common stopwords\n",
    "    stopwords = {'the', 'a', 'an', 'and', 'or', 'but', 'in', 'on', 'at', 'to', 'for', 'of', 'is', 'it', 'this', 'that', 'was', 'as', 'with', 'by', 'from'}\n",
    "    words = [w for w in words if w not in stopwords and len(w) > 3]\n",
    "    return Counter(words).most_common(n)\n",
    "\n",
    "pos_words = get_top_words(df[df['sentiment']=='positive']['review'])\n",
    "neg_words = get_top_words(df[df['sentiment']=='negative']['review'])\n",
    "\n",
    "print('Top 10 positive words:')\n",
    "for word, count in pos_words[:10]:\n",
    "    print(f'  {word}: {count}')\n",
    "\n",
    "print('\\nTop 10 negative words:')\n",
    "for word, count in neg_words[:10]:\n",
    "    print(f'  {word}: {count}')"
   ]
  },
  {
   "cell_type": "markdown",
   "metadata": {},
   "source": [
    "## 4. Visualization Planning (ULTRATHINK)\n",
    "\n",
    "Based on data exploration, here are 5 compelling visual stories:"
   ]
  },
  {
   "cell_type": "code",
   "execution_count": 5,
   "metadata": {
    "execution": {
     "iopub.execute_input": "2025-10-03T17:15:14.823044Z",
     "iopub.status.busy": "2025-10-03T17:15:14.822968Z",
     "iopub.status.idle": "2025-10-03T17:15:16.752400Z",
     "shell.execute_reply": "2025-10-03T17:15:16.752153Z"
    }
   },
   "outputs": [
    {
     "name": "stdout",
     "output_type": "stream",
     "text": [
      "✅ Findings saved to findings.json\n",
      "\n",
      "Visualization Plan:\n",
      "  1. [Film Noir] Sentiment Distribution: Light vs Dark\n",
      "  2. [Studio Ghibli] Review Length Distribution\n",
      "  3. [Wes Anderson] Top Words: Positive vs Negative\n",
      "  4. [Blade Runner] Word Count vs Sentiment\n",
      "  5. [Star Wars] Epic Keyword Universe\n"
     ]
    }
   ],
   "source": [
    "# Save findings for visualization agent\n",
    "findings = {\n",
    "    'sentiment_counts': df['sentiment'].value_counts().to_dict(),\n",
    "    'avg_length_by_sentiment': df.groupby('sentiment')['review_length'].mean().to_dict(),\n",
    "    'top_positive_words': pos_words[:10],\n",
    "    'top_negative_words': neg_words[:10],\n",
    "    'visualizations': [\n",
    "        {\n",
    "            'id': 1,\n",
    "            'style': 'Film Noir',\n",
    "            'title': 'Sentiment Distribution: Light vs Dark',\n",
    "            'description': 'High contrast visualization showing positive/negative review split',\n",
    "            'data': 'sentiment_counts'\n",
    "        },\n",
    "        {\n",
    "            'id': 2,\n",
    "            'style': 'Studio Ghibli',\n",
    "            'title': 'Review Length Distribution',\n",
    "            'description': 'Soft, flowing visualization of review character counts',\n",
    "            'data': 'review_length'\n",
    "        },\n",
    "        {\n",
    "            'id': 3,\n",
    "            'style': 'Wes Anderson',\n",
    "            'title': 'Top Words: Positive vs Negative',\n",
    "            'description': 'Symmetrical comparison of most frequent words',\n",
    "            'data': 'top_words'\n",
    "        },\n",
    "        {\n",
    "            'id': 4,\n",
    "            'style': 'Blade Runner',\n",
    "            'title': 'Word Count vs Sentiment',\n",
    "            'description': 'Neon scatter plot showing review length patterns',\n",
    "            'data': 'word_count'\n",
    "        },\n",
    "        {\n",
    "            'id': 5,\n",
    "            'style': 'Star Wars',\n",
    "            'title': 'Epic Keyword Universe',\n",
    "            'description': 'Bold visualization of top 20 keywords across all reviews',\n",
    "            'data': 'all_top_words'\n",
    "        }\n",
    "    ]\n",
    "}\n",
    "\n",
    "# Add all top words for Star Wars viz\n",
    "all_words = get_top_words(df['review'], n=20)\n",
    "findings['all_top_words'] = all_words\n",
    "\n",
    "# Save findings\n",
    "with open('../notebooks/findings.json', 'w') as f:\n",
    "    json.dump(findings, f, indent=2)\n",
    "\n",
    "print('✅ Findings saved to findings.json')\n",
    "print('\\nVisualization Plan:')\n",
    "for viz in findings['visualizations']:\n",
    "    print(f\"  {viz['id']}. [{viz['style']}] {viz['title']}\")"
   ]
  }
 ],
 "metadata": {
  "kernelspec": {
   "display_name": "Python 3",
   "language": "python",
   "name": "python3"
  },
  "language_info": {
   "codemirror_mode": {
    "name": "ipython",
    "version": 3
   },
   "file_extension": ".py",
   "mimetype": "text/x-python",
   "name": "python",
   "nbconvert_exporter": "python",
   "pygments_lexer": "ipython3",
   "version": "3.13.5"
  }
 },
 "nbformat": 4,
 "nbformat_minor": 4
}
